{
  "nbformat": 4,
  "nbformat_minor": 0,
  "metadata": {
    "colab": {
      "provenance": []
    },
    "kernelspec": {
      "name": "python3",
      "display_name": "Python 3"
    },
    "language_info": {
      "name": "python"
    }
  },
  "cells": [
    {
      "cell_type": "markdown",
      "source": [
        "# Install GRASS GIS"
      ],
      "metadata": {
        "id": "V5FdN92AUR_q"
      }
    },
    {
      "cell_type": "code",
      "execution_count": null,
      "metadata": {
        "id": "tW-I7tg_85X6"
      },
      "outputs": [],
      "source": [
        "%%bash\n",
        "DEBIAN_FRONTEND=noninteractive sudo add-apt-repository ppa:ubuntugis/ubuntugis-unstable && apt update && apt install grass xvfb\n",
        "pip install PyVirtualDisplay\n",
        "git clone https://github.com/ncsu-geoforall-lab/grass-gis-workshop-vanderbilt-2024\n",
        "cd grass-gis-workshop-vanderbilt-2024\n",
        "sh download_data.sh"
      ]
    },
    {
      "cell_type": "code",
      "source": [
        "import os\n",
        "os.chdir(\"grass-gis-workshop-vanderbilt-2024\")"
      ],
      "metadata": {
        "id": "UCdzD3IbTbFb"
      },
      "execution_count": null,
      "outputs": []
    }
  ]
}